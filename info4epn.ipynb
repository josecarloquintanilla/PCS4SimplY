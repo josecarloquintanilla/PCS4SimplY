{
 "cells": [
  {
   "cell_type": "code",
   "execution_count": 1,
   "id": "54616971-f125-40f5-8833-a604671fd0c5",
   "metadata": {},
   "outputs": [
    {
     "name": "stdout",
     "output_type": "stream",
     "text": [
      "Environment: 'uat'\n"
     ]
    }
   ],
   "source": [
    "import pandas as pd\n",
    "import os\n",
    "\n",
    "env = os.environ.get('Environment')\n",
    "print(f\"Environment: {env!r}\")"
   ]
  },
  {
   "cell_type": "code",
   "execution_count": 2,
   "id": "5242583a-4ae5-46e0-af93-1f1b496ec3ac",
   "metadata": {},
   "outputs": [],
   "source": [
    "%reload_ext jupyter_dmdg"
   ]
  },
  {
   "cell_type": "code",
   "execution_count": 3,
   "id": "200acd31-fd36-41d0-8efe-fe1c704ac050",
   "metadata": {},
   "outputs": [],
   "source": [
    "%%athena_to_df --out SIPENOX_pe\n",
    "SELECT \n",
    "    batch_id, \n",
    "    event_parameter_name, \n",
    "    event_start \n",
    "FROM \"uat_plant_connectivity_prepared_data\".\"process_events\"\n",
    "WHERE \n",
    "    site_id = 'SIP' \n",
    "    AND building_id = 'ENOX' "
   ]
  },
  {
   "cell_type": "code",
   "execution_count": 4,
   "id": "c43d603c-9674-4931-9c90-0c9d8ab7c813",
   "metadata": {},
   "outputs": [
    {
     "name": "stdin",
     "output_type": "stream",
     "text": [
      "Enter event_parameter_name for the event_start:  411/04 - Charge Methanol R24300 (2nd charge) Launching\n"
     ]
    }
   ],
   "source": [
    "epn = input(\"Enter event_parameter_name for the event_start: \")"
   ]
  },
  {
   "cell_type": "code",
   "execution_count": 5,
   "id": "e954809c-7bd5-43a7-ba2e-722a87f70de9",
   "metadata": {},
   "outputs": [
    {
     "data": {
      "text/html": [
       "<div>\n",
       "<style scoped>\n",
       "    .dataframe tbody tr th:only-of-type {\n",
       "        vertical-align: middle;\n",
       "    }\n",
       "\n",
       "    .dataframe tbody tr th {\n",
       "        vertical-align: top;\n",
       "    }\n",
       "\n",
       "    .dataframe thead th {\n",
       "        text-align: right;\n",
       "    }\n",
       "</style>\n",
       "<table border=\"1\" class=\"dataframe\">\n",
       "  <thead>\n",
       "    <tr style=\"text-align: right;\">\n",
       "      <th></th>\n",
       "      <th>batch_id</th>\n",
       "      <th>event_parameter_name</th>\n",
       "      <th>event_start</th>\n",
       "    </tr>\n",
       "  </thead>\n",
       "  <tbody>\n",
       "    <tr>\n",
       "      <th>702</th>\n",
       "      <td>22QEDB1474</td>\n",
       "      <td>411/04 - Charge Methanol R24300 (2nd charge) L...</td>\n",
       "      <td>2022-12-01 02:18:29</td>\n",
       "    </tr>\n",
       "    <tr>\n",
       "      <th>703</th>\n",
       "      <td>22QEDB1474</td>\n",
       "      <td>411/04 - Charge Methanol R24300 (2nd charge) L...</td>\n",
       "      <td>2022-12-01 02:18:29</td>\n",
       "    </tr>\n",
       "    <tr>\n",
       "      <th>901</th>\n",
       "      <td>22QEDB1437</td>\n",
       "      <td>411/04 - Charge Methanol R24300 (2nd charge) L...</td>\n",
       "      <td>2022-10-12 14:31:01</td>\n",
       "    </tr>\n",
       "    <tr>\n",
       "      <th>1108</th>\n",
       "      <td>23QEDE1002</td>\n",
       "      <td>411/04 - Charge Methanol R24300 (2nd charge) L...</td>\n",
       "      <td>2023-01-03 19:51:15</td>\n",
       "    </tr>\n",
       "    <tr>\n",
       "      <th>1233</th>\n",
       "      <td>22QEDB1485</td>\n",
       "      <td>411/04 - Charge Methanol R24300 (2nd charge) L...</td>\n",
       "      <td>2022-12-10 04:24:00</td>\n",
       "    </tr>\n",
       "    <tr>\n",
       "      <th>...</th>\n",
       "      <td>...</td>\n",
       "      <td>...</td>\n",
       "      <td>...</td>\n",
       "    </tr>\n",
       "    <tr>\n",
       "      <th>56540</th>\n",
       "      <td>23QEDB1025</td>\n",
       "      <td>411/04 - Charge Methanol R24300 (2nd charge) L...</td>\n",
       "      <td>2023-01-25 03:53:51</td>\n",
       "    </tr>\n",
       "    <tr>\n",
       "      <th>56741</th>\n",
       "      <td>22QEDB1473</td>\n",
       "      <td>411/04 - Charge Methanol R24300 (2nd charge) L...</td>\n",
       "      <td>2022-11-30 14:16:51</td>\n",
       "    </tr>\n",
       "    <tr>\n",
       "      <th>56920</th>\n",
       "      <td>23QEDB1055</td>\n",
       "      <td>411/04 - Charge Methanol R24300 (2nd charge) L...</td>\n",
       "      <td>2023-02-14 16:15:55</td>\n",
       "    </tr>\n",
       "    <tr>\n",
       "      <th>56970</th>\n",
       "      <td>23QEDB1169</td>\n",
       "      <td>411/04 - Charge Methanol R24300 (2nd charge) L...</td>\n",
       "      <td>2023-05-03 11:13:31</td>\n",
       "    </tr>\n",
       "    <tr>\n",
       "      <th>56995</th>\n",
       "      <td>22QEDB1048</td>\n",
       "      <td>411/04 - Charge Methanol R24300 (2nd charge) L...</td>\n",
       "      <td>2022-01-29 17:30:57</td>\n",
       "    </tr>\n",
       "  </tbody>\n",
       "</table>\n",
       "<p>204 rows × 3 columns</p>\n",
       "</div>"
      ],
      "text/plain": [
       "         batch_id                               event_parameter_name  \\\n",
       "702    22QEDB1474  411/04 - Charge Methanol R24300 (2nd charge) L...   \n",
       "703    22QEDB1474  411/04 - Charge Methanol R24300 (2nd charge) L...   \n",
       "901    22QEDB1437  411/04 - Charge Methanol R24300 (2nd charge) L...   \n",
       "1108   23QEDE1002  411/04 - Charge Methanol R24300 (2nd charge) L...   \n",
       "1233   22QEDB1485  411/04 - Charge Methanol R24300 (2nd charge) L...   \n",
       "...           ...                                                ...   \n",
       "56540  23QEDB1025  411/04 - Charge Methanol R24300 (2nd charge) L...   \n",
       "56741  22QEDB1473  411/04 - Charge Methanol R24300 (2nd charge) L...   \n",
       "56920  23QEDB1055  411/04 - Charge Methanol R24300 (2nd charge) L...   \n",
       "56970  23QEDB1169  411/04 - Charge Methanol R24300 (2nd charge) L...   \n",
       "56995  22QEDB1048  411/04 - Charge Methanol R24300 (2nd charge) L...   \n",
       "\n",
       "              event_start  \n",
       "702   2022-12-01 02:18:29  \n",
       "703   2022-12-01 02:18:29  \n",
       "901   2022-10-12 14:31:01  \n",
       "1108  2023-01-03 19:51:15  \n",
       "1233  2022-12-10 04:24:00  \n",
       "...                   ...  \n",
       "56540 2023-01-25 03:53:51  \n",
       "56741 2022-11-30 14:16:51  \n",
       "56920 2023-02-14 16:15:55  \n",
       "56970 2023-05-03 11:13:31  \n",
       "56995 2022-01-29 17:30:57  \n",
       "\n",
       "[204 rows x 3 columns]"
      ]
     },
     "execution_count": 5,
     "metadata": {},
     "output_type": "execute_result"
    }
   ],
   "source": [
    "pe_w_epn_entered = SIPENOX_pe[SIPENOX_pe['event_parameter_name'] == epn]\n",
    "pe_w_epn_entered"
   ]
  },
  {
   "cell_type": "code",
   "execution_count": 6,
   "id": "c6691e76-6fe8-4168-bc64-081fe7ec0c82",
   "metadata": {},
   "outputs": [
    {
     "name": "stdin",
     "output_type": "stream",
     "text": [
      "Do you need to specify an event_parameter_name for the event_stop?  Yes\n"
     ]
    }
   ],
   "source": [
    "Yes_or_No = input('Do you need to specify an event_parameter_name for the event_stop? ')"
   ]
  },
  {
   "cell_type": "code",
   "execution_count": 7,
   "id": "af1e0c33-3eef-485c-b5a9-ce78b2e473d9",
   "metadata": {},
   "outputs": [
    {
     "name": "stdin",
     "output_type": "stream",
     "text": [
      "Enter event_parameter_name for the event_stop:  411/04 - Charge Methanol R24300 (2nd charge) Release\n"
     ]
    }
   ],
   "source": [
    "if Yes_or_No == 'Yes':\n",
    "    epn2 = input(\"Enter event_parameter_name for the event_stop: \")\n",
    "    pe_w_epn2_entered = SIPENOX_pe[SIPENOX_pe['event_parameter_name'] == epn2]\n",
    "    pe_w_epn2_entered = pe_w_epn2_entered.rename(columns={'event_start': 'event_stop'})\n",
    "    pe_w_epn2_entered = pe_w_epn2_entered.rename(columns={'event_parameter_name': 'event_parameter_name_2'})\n",
    "    pe_w_epn_entered = pd.merge(pe_w_epn_entered, pe_w_epn2_entered, on='batch_id') "
   ]
  },
  {
   "cell_type": "code",
   "execution_count": 8,
   "id": "c2dde953-b688-4eec-8a94-c11a5febd637",
   "metadata": {},
   "outputs": [],
   "source": [
    "pe_w_epn_entered = pe_w_epn_entered.reset_index(drop=True)\n",
    "pe_w_epn_entered.to_csv('pe_w_epn_entered.csv')"
   ]
  }
 ],
 "metadata": {
  "kernelspec": {
   "display_name": "Python 3",
   "language": "python",
   "name": "python3"
  },
  "language_info": {
   "codemirror_mode": {
    "name": "ipython",
    "version": 3
   },
   "file_extension": ".py",
   "mimetype": "text/x-python",
   "name": "python",
   "nbconvert_exporter": "python",
   "pygments_lexer": "ipython3",
   "version": "3.9.2"
  }
 },
 "nbformat": 4,
 "nbformat_minor": 5
}
